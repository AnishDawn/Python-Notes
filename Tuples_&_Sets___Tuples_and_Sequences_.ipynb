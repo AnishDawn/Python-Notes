{
  "nbformat": 4,
  "nbformat_minor": 0,
  "metadata": {
    "colab": {
      "provenance": []
    },
    "kernelspec": {
      "name": "python3",
      "display_name": "Python 3"
    },
    "language_info": {
      "name": "python"
    }
  },
  "cells": [
    {
      "cell_type": "markdown",
      "source": [
        "#Tuples and Sequences\n",
        "##None\n",
        "`None` is an object which is a datatype of its own (NoneType).\n",
        "\n",
        "Used to define no value or nothing."
      ],
      "metadata": {
        "id": "sE_vCuV-x_qo"
      }
    },
    {
      "cell_type": "code",
      "source": [
        "var = None\n",
        "print(var)\n",
        "print(type(var))"
      ],
      "metadata": {
        "colab": {
          "base_uri": "https://localhost:8080/"
        },
        "id": "xF7Oo5Y0yK84",
        "outputId": "4cbfb56c-5346-41c1-c510-7c74a94c95b3"
      },
      "execution_count": null,
      "outputs": [
        {
          "output_type": "stream",
          "name": "stdout",
          "text": [
            "None\n",
            "<class 'NoneType'>\n"
          ]
        }
      ]
    },
    {
      "cell_type": "markdown",
      "source": [
        "##Function Without Return\n",
        "Functions assigned to a variable, when function does not have a `return` statement, the variable will get the value `None`"
      ],
      "metadata": {
        "id": "Eys-NjZiyNv8"
      }
    },
    {
      "cell_type": "code",
      "execution_count": null,
      "metadata": {
        "colab": {
          "base_uri": "https://localhost:8080/"
        },
        "id": "ITSToiL8xuth",
        "outputId": "facea020-1ac9-4e3c-c73e-d4c85ee23380"
      },
      "outputs": [
        {
          "output_type": "stream",
          "name": "stdout",
          "text": [
            "56\n",
            "None\n"
          ]
        }
      ],
      "source": [
        "def increment(a):\n",
        "    print(a+1)\n",
        "\n",
        "a = 55\n",
        "result=increment(a)\n",
        "print(result)"
      ]
    },
    {
      "cell_type": "markdown",
      "source": [
        "##Function That Returns Nothing\n",
        "When a function returns no value, the default value will be `None`\n",
        "\n",
        "**Example - 1**"
      ],
      "metadata": {
        "id": "1rhzILw6yaA3"
      }
    },
    {
      "cell_type": "code",
      "source": [
        "def increment(a):\n",
        "    a += 1\n",
        "    return\n",
        "\n",
        "a = 55\n",
        "result = increment(a)\n",
        "print(result)"
      ],
      "metadata": {
        "colab": {
          "base_uri": "https://localhost:8080/"
        },
        "id": "_L_gV-QEyhIj",
        "outputId": "dd4abee5-dd0e-4619-ea26-feffd408f779"
      },
      "execution_count": null,
      "outputs": [
        {
          "output_type": "stream",
          "name": "stdout",
          "text": [
            "None\n"
          ]
        }
      ]
    },
    {
      "cell_type": "markdown",
      "source": [
        "**Example - 2**"
      ],
      "metadata": {
        "id": "7eESuPlwymFL"
      }
    },
    {
      "cell_type": "code",
      "source": [
        "def increment(a):\n",
        "    a += 1\n",
        "    return None\n",
        "\n",
        "a = 5\n",
        "result = increment(a)\n",
        "print(result)"
      ],
      "metadata": {
        "colab": {
          "base_uri": "https://localhost:8080/"
        },
        "id": "SNhdbLY0ylg9",
        "outputId": "39ea140d-e690-4a88-c5bd-016211c44884"
      },
      "execution_count": null,
      "outputs": [
        {
          "output_type": "stream",
          "name": "stdout",
          "text": [
            "None\n"
          ]
        }
      ]
    },
    {
      "cell_type": "markdown",
      "source": [
        "**Example - 3**"
      ],
      "metadata": {
        "id": "iDRxEf_DyufX"
      }
    },
    {
      "cell_type": "code",
      "source": [
        "result = len(\"Hi\")\n",
        "print(result)"
      ],
      "metadata": {
        "colab": {
          "base_uri": "https://localhost:8080/"
        },
        "id": "6HDLRbIJywOA",
        "outputId": "2f890ebf-0f8d-443e-fbe7-35421deb87fa"
      },
      "execution_count": null,
      "outputs": [
        {
          "output_type": "stream",
          "name": "stdout",
          "text": [
            "2\n"
          ]
        }
      ]
    },
    {
      "cell_type": "markdown",
      "source": [
        "#Tuple\n",
        "* Holds an ordered sequence of items.\n",
        "* Tuple is immutable object, where as list is a mutable object."
      ],
      "metadata": {
        "id": "aehJfGSRy1lL"
      }
    },
    {
      "cell_type": "code",
      "source": [
        "a = 2\n",
        "tuple_a = (5, \"Six\", a, 8.2)"
      ],
      "metadata": {
        "id": "_UbV6QwxzEZ9"
      },
      "execution_count": null,
      "outputs": []
    },
    {
      "cell_type": "markdown",
      "source": [
        "##Creating a Tuple\n",
        "* Created by enclosing elements within (round) brackets.\n",
        "*Each item is separated by a comma."
      ],
      "metadata": {
        "id": "F7RKMCGEzEAd"
      }
    },
    {
      "cell_type": "code",
      "source": [
        "a = 2\n",
        "tuple_a = (5, \"Six\", a, 8.2)\n",
        "print(type(tuple_a))\n",
        "print(tuple_a)"
      ],
      "metadata": {
        "colab": {
          "base_uri": "https://localhost:8080/"
        },
        "id": "lBt88clszRlc",
        "outputId": "f26de9fd-1255-470e-c0e1-03e13397514c"
      },
      "execution_count": null,
      "outputs": [
        {
          "output_type": "stream",
          "name": "stdout",
          "text": [
            "<class 'tuple'>\n",
            "(5, 'Six', 2, 8.2)\n"
          ]
        }
      ]
    },
    {
      "cell_type": "markdown",
      "source": [
        "##Tuple with a Single Item"
      ],
      "metadata": {
        "id": "oEswVh5pzapa"
      }
    },
    {
      "cell_type": "code",
      "source": [
        "a = (1,)\n",
        "print(type(a))\n",
        "print(a)"
      ],
      "metadata": {
        "id": "sgtTQwL3zdeN"
      },
      "execution_count": null,
      "outputs": []
    },
    {
      "cell_type": "markdown",
      "source": [
        "##Accessing Tuple Elements\n",
        "Accessing Tuple elements is also similar to string and list accessing and slicing."
      ],
      "metadata": {
        "id": "yQPQ3RSmzgZO"
      }
    },
    {
      "cell_type": "code",
      "source": [
        "a = 2\n",
        "tuple_a = (5, \"Six\", a, 8.2)\n",
        "print(tuple_a[1])"
      ],
      "metadata": {
        "colab": {
          "base_uri": "https://localhost:8080/"
        },
        "id": "sS0VPp_Gzkhq",
        "outputId": "d96a5c48-1969-4e67-f83f-7300ac2870ae"
      },
      "execution_count": null,
      "outputs": [
        {
          "output_type": "stream",
          "name": "stdout",
          "text": [
            "Six\n"
          ]
        }
      ]
    },
    {
      "cell_type": "markdown",
      "source": [
        "##Tuples are Immutable\n",
        "Tuples does not support modification."
      ],
      "metadata": {
        "id": "9N5wd37xzoMK"
      }
    },
    {
      "cell_type": "code",
      "source": [
        "tuple_a = (1, 2, 3, 5)\n",
        "tuple_a[3] = 4\n",
        "print(tuple_a)"
      ],
      "metadata": {
        "colab": {
          "base_uri": "https://localhost:8080/",
          "height": 176
        },
        "id": "EgPytOkjzucn",
        "outputId": "91962d21-3ea3-4866-857a-94fafaa02404"
      },
      "execution_count": null,
      "outputs": [
        {
          "output_type": "error",
          "ename": "TypeError",
          "evalue": "'tuple' object does not support item assignment",
          "traceback": [
            "\u001b[0;31m---------------------------------------------------------------------------\u001b[0m",
            "\u001b[0;31mTypeError\u001b[0m                                 Traceback (most recent call last)",
            "\u001b[0;32m<ipython-input-13-d4f26e3b86a0>\u001b[0m in \u001b[0;36m<cell line: 2>\u001b[0;34m()\u001b[0m\n\u001b[1;32m      1\u001b[0m \u001b[0mtuple_a\u001b[0m \u001b[0;34m=\u001b[0m \u001b[0;34m(\u001b[0m\u001b[0;36m1\u001b[0m\u001b[0;34m,\u001b[0m \u001b[0;36m2\u001b[0m\u001b[0;34m,\u001b[0m \u001b[0;36m3\u001b[0m\u001b[0;34m,\u001b[0m \u001b[0;36m5\u001b[0m\u001b[0;34m)\u001b[0m\u001b[0;34m\u001b[0m\u001b[0;34m\u001b[0m\u001b[0m\n\u001b[0;32m----> 2\u001b[0;31m \u001b[0mtuple_a\u001b[0m\u001b[0;34m[\u001b[0m\u001b[0;36m3\u001b[0m\u001b[0;34m]\u001b[0m \u001b[0;34m=\u001b[0m \u001b[0;36m4\u001b[0m\u001b[0;34m\u001b[0m\u001b[0;34m\u001b[0m\u001b[0m\n\u001b[0m\u001b[1;32m      3\u001b[0m \u001b[0mprint\u001b[0m\u001b[0;34m(\u001b[0m\u001b[0mtuple_a\u001b[0m\u001b[0;34m)\u001b[0m\u001b[0;34m\u001b[0m\u001b[0;34m\u001b[0m\u001b[0m\n",
            "\u001b[0;31mTypeError\u001b[0m: 'tuple' object does not support item assignment"
          ]
        }
      ]
    },
    {
      "cell_type": "markdown",
      "source": [
        "##Operations can be done on Tuples\n",
        "* len()\n",
        "*Iterating\n",
        "*Slicing\n",
        "*Extended Slicing\n",
        "\n",
        "##Converting to Tuple\n",
        "`tuple(sequence)` Takes a sequence and converts it into tuple.\n",
        "\n",
        "##String to Tuple"
      ],
      "metadata": {
        "id": "o1y9o74gzvgq"
      }
    },
    {
      "cell_type": "code",
      "source": [
        "color = \"Red\"\n",
        "tuple_a = tuple(color)\n",
        "print(tuple_a)"
      ],
      "metadata": {
        "colab": {
          "base_uri": "https://localhost:8080/"
        },
        "id": "S23Iywga0Ht3",
        "outputId": "087772f2-1226-4f84-ede6-92fba44ecfdd"
      },
      "execution_count": null,
      "outputs": [
        {
          "output_type": "stream",
          "name": "stdout",
          "text": [
            "('R', 'e', 'd')\n"
          ]
        }
      ]
    },
    {
      "cell_type": "markdown",
      "source": [
        "##List to Tuple"
      ],
      "metadata": {
        "id": "e4ftlDEM0L6g"
      }
    },
    {
      "cell_type": "code",
      "source": [
        "list_a = [1, 2, 3]\n",
        "print(type(list_a))\n",
        "list_a = tuple(list_a)\n",
        "print(type(list_a))"
      ],
      "metadata": {
        "colab": {
          "base_uri": "https://localhost:8080/"
        },
        "id": "0PKTvrPu0NdW",
        "outputId": "7995f5d5-81af-487f-ab1e-7dc6563a001d"
      },
      "execution_count": null,
      "outputs": [
        {
          "output_type": "stream",
          "name": "stdout",
          "text": [
            "<class 'list'>\n",
            "<class 'tuple'>\n"
          ]
        }
      ]
    },
    {
      "cell_type": "markdown",
      "source": [
        "##Sequence to Tuple"
      ],
      "metadata": {
        "id": "H7LZkJyZ0RxF"
      }
    },
    {
      "cell_type": "code",
      "source": [
        "tuple_a = tuple(range(4))\n",
        "print(tuple_a)"
      ],
      "metadata": {
        "colab": {
          "base_uri": "https://localhost:8080/"
        },
        "id": "rNJEG66v0WEB",
        "outputId": "e97d35e3-7377-46de-c117-639995b23d83"
      },
      "execution_count": null,
      "outputs": [
        {
          "output_type": "stream",
          "name": "stdout",
          "text": [
            "(0, 1, 2, 3)\n"
          ]
        }
      ]
    },
    {
      "cell_type": "markdown",
      "source": [
        "##Membership Check\n",
        "Check if given data element is part of a sequence or not.\n",
        "\n",
        "Membership Operators\n",
        "\n",
        "* in\n",
        "*not in\n",
        "\n",
        "**Example - 1**"
      ],
      "metadata": {
        "id": "yLPObNPr0dQS"
      }
    },
    {
      "cell_type": "code",
      "source": [
        "tuple_a = (1, 2, 3, 4,5)\n",
        "is_part = 5 in tuple_a\n",
        "print(is_part)"
      ],
      "metadata": {
        "colab": {
          "base_uri": "https://localhost:8080/"
        },
        "id": "StCZJ7HF0cbj",
        "outputId": "9a9a28ae-e6e9-4788-fc67-41d727f659ae"
      },
      "execution_count": null,
      "outputs": [
        {
          "output_type": "stream",
          "name": "stdout",
          "text": [
            "True\n"
          ]
        }
      ]
    },
    {
      "cell_type": "markdown",
      "source": [
        "**Example - 2**"
      ],
      "metadata": {
        "id": "zsp26Bpw0wzM"
      }
    },
    {
      "cell_type": "code",
      "source": [
        "tuple_a = (1, 2, 3, 4)\n",
        "is_part = 1 not in tuple_a\n",
        "print(is_part)"
      ],
      "metadata": {
        "colab": {
          "base_uri": "https://localhost:8080/"
        },
        "id": "4pEPMny4001x",
        "outputId": "24ce7d24-2d00-494f-ff49-4133335e34be"
      },
      "execution_count": null,
      "outputs": [
        {
          "output_type": "stream",
          "name": "stdout",
          "text": [
            "False\n"
          ]
        }
      ]
    },
    {
      "cell_type": "markdown",
      "source": [
        "##List Membership"
      ],
      "metadata": {
        "id": "T-e5k4QZ03D6"
      }
    },
    {
      "cell_type": "code",
      "source": [
        "list_a = [1, 2, 3, 4]\n",
        "is_part = 1 in list_a\n",
        "print(is_part)"
      ],
      "metadata": {
        "colab": {
          "base_uri": "https://localhost:8080/"
        },
        "id": "ebQOEWOp05aa",
        "outputId": "a9a50963-c73f-450a-ae99-357ad3599b29"
      },
      "execution_count": null,
      "outputs": [
        {
          "output_type": "stream",
          "name": "stdout",
          "text": [
            "True\n"
          ]
        }
      ]
    },
    {
      "cell_type": "markdown",
      "source": [
        "#String Membership"
      ],
      "metadata": {
        "id": "4Gp_gzMQ1Atz"
      }
    },
    {
      "cell_type": "code",
      "source": [
        "word = 'Python'\n",
        "is_part = 'th' in word\n",
        "print(is_part)"
      ],
      "metadata": {
        "colab": {
          "base_uri": "https://localhost:8080/"
        },
        "id": "yKiHcW0N1GJU",
        "outputId": "977efb24-33d8-4c9a-e47c-36e58d77bc44"
      },
      "execution_count": null,
      "outputs": [
        {
          "output_type": "stream",
          "name": "stdout",
          "text": [
            "True\n"
          ]
        }
      ]
    },
    {
      "cell_type": "markdown",
      "source": [
        "#Packing & Unpacking\n",
        "##Unpacking\n",
        "Values of any sequence can be directly assigned to variables.\n",
        "\n",
        "Number of variables in the left should match the length of sequence."
      ],
      "metadata": {
        "id": "NXvXsFcB1J5Z"
      }
    },
    {
      "cell_type": "code",
      "source": [
        "tuple_a = ('R', 'e', 'd')\n",
        "s_1, s_2, s_3 = tuple_a\n",
        "print(s_1)\n",
        "print(s_2)\n",
        "print(s_3)"
      ],
      "metadata": {
        "colab": {
          "base_uri": "https://localhost:8080/"
        },
        "id": "8OzOKLSs1Wf1",
        "outputId": "614bf908-c68d-451b-b145-9b4124b5395e"
      },
      "execution_count": null,
      "outputs": [
        {
          "output_type": "stream",
          "name": "stdout",
          "text": [
            "R\n",
            "e\n",
            "d\n"
          ]
        }
      ]
    },
    {
      "cell_type": "markdown",
      "source": [
        "##Errors in Unpacking"
      ],
      "metadata": {
        "id": "3XyQsp9e1a4z"
      }
    },
    {
      "cell_type": "code",
      "source": [
        "tuple_a = ('R', 'e', 'd')\n",
        "s_1, s_2 = tuple_a\n",
        "print(s_1)\n",
        "print(s_2)"
      ],
      "metadata": {
        "colab": {
          "base_uri": "https://localhost:8080/",
          "height": 193
        },
        "id": "S1_dagva1bTj",
        "outputId": "9e21e9c3-31b5-44f6-bfa6-f420026ae15c"
      },
      "execution_count": null,
      "outputs": [
        {
          "output_type": "error",
          "ename": "ValueError",
          "evalue": "too many values to unpack (expected 2)",
          "traceback": [
            "\u001b[0;31m---------------------------------------------------------------------------\u001b[0m",
            "\u001b[0;31mValueError\u001b[0m                                Traceback (most recent call last)",
            "\u001b[0;32m<ipython-input-27-5d16c08910f4>\u001b[0m in \u001b[0;36m<cell line: 2>\u001b[0;34m()\u001b[0m\n\u001b[1;32m      1\u001b[0m \u001b[0mtuple_a\u001b[0m \u001b[0;34m=\u001b[0m \u001b[0;34m(\u001b[0m\u001b[0;34m'R'\u001b[0m\u001b[0;34m,\u001b[0m \u001b[0;34m'e'\u001b[0m\u001b[0;34m,\u001b[0m \u001b[0;34m'd'\u001b[0m\u001b[0;34m)\u001b[0m\u001b[0;34m\u001b[0m\u001b[0;34m\u001b[0m\u001b[0m\n\u001b[0;32m----> 2\u001b[0;31m \u001b[0ms_1\u001b[0m\u001b[0;34m,\u001b[0m \u001b[0ms_2\u001b[0m \u001b[0;34m=\u001b[0m \u001b[0mtuple_a\u001b[0m\u001b[0;34m\u001b[0m\u001b[0;34m\u001b[0m\u001b[0m\n\u001b[0m\u001b[1;32m      3\u001b[0m \u001b[0mprint\u001b[0m\u001b[0;34m(\u001b[0m\u001b[0ms_1\u001b[0m\u001b[0;34m)\u001b[0m\u001b[0;34m\u001b[0m\u001b[0;34m\u001b[0m\u001b[0m\n\u001b[1;32m      4\u001b[0m \u001b[0mprint\u001b[0m\u001b[0;34m(\u001b[0m\u001b[0ms_2\u001b[0m\u001b[0;34m)\u001b[0m\u001b[0;34m\u001b[0m\u001b[0;34m\u001b[0m\u001b[0m\n",
            "\u001b[0;31mValueError\u001b[0m: too many values to unpack (expected 2)"
          ]
        }
      ]
    },
    {
      "cell_type": "code",
      "source": [
        "tuple_a = ('R', 'e', 'd')\n",
        "s_1, s_2, s_3, s_4 = tuple_a\n",
        "print(s_1)"
      ],
      "metadata": {
        "colab": {
          "base_uri": "https://localhost:8080/",
          "height": 176
        },
        "id": "wcAuQSzS17Vh",
        "outputId": "474536f4-38f4-4012-a4a7-0be90f748340"
      },
      "execution_count": null,
      "outputs": [
        {
          "output_type": "error",
          "ename": "ValueError",
          "evalue": "not enough values to unpack (expected 4, got 3)",
          "traceback": [
            "\u001b[0;31m---------------------------------------------------------------------------\u001b[0m",
            "\u001b[0;31mValueError\u001b[0m                                Traceback (most recent call last)",
            "\u001b[0;32m<ipython-input-28-1e4958edba1f>\u001b[0m in \u001b[0;36m<cell line: 2>\u001b[0;34m()\u001b[0m\n\u001b[1;32m      1\u001b[0m \u001b[0mtuple_a\u001b[0m \u001b[0;34m=\u001b[0m \u001b[0;34m(\u001b[0m\u001b[0;34m'R'\u001b[0m\u001b[0;34m,\u001b[0m \u001b[0;34m'e'\u001b[0m\u001b[0;34m,\u001b[0m \u001b[0;34m'd'\u001b[0m\u001b[0;34m)\u001b[0m\u001b[0;34m\u001b[0m\u001b[0;34m\u001b[0m\u001b[0m\n\u001b[0;32m----> 2\u001b[0;31m \u001b[0ms_1\u001b[0m\u001b[0;34m,\u001b[0m \u001b[0ms_2\u001b[0m\u001b[0;34m,\u001b[0m \u001b[0ms_3\u001b[0m\u001b[0;34m,\u001b[0m \u001b[0ms_4\u001b[0m \u001b[0;34m=\u001b[0m \u001b[0mtuple_a\u001b[0m\u001b[0;34m\u001b[0m\u001b[0;34m\u001b[0m\u001b[0m\n\u001b[0m\u001b[1;32m      3\u001b[0m \u001b[0mprint\u001b[0m\u001b[0;34m(\u001b[0m\u001b[0ms_1\u001b[0m\u001b[0;34m)\u001b[0m\u001b[0;34m\u001b[0m\u001b[0;34m\u001b[0m\u001b[0m\n",
            "\u001b[0;31mValueError\u001b[0m: not enough values to unpack (expected 4, got 3)"
          ]
        }
      ]
    },
    {
      "cell_type": "markdown",
      "source": [
        "##Tuple Packing\n",
        "`()` brackets are optional while creating tuples.\n",
        "\n",
        "In Tuple Packing, Values separated by commas will be packed into a tuple."
      ],
      "metadata": {
        "id": "vBRZnZVJ2CoH"
      }
    },
    {
      "cell_type": "code",
      "source": [
        "a = 1, 2, 3\n",
        "a.add(4)\n",
        "print(type(a))\n",
        "print(a)"
      ],
      "metadata": {
        "colab": {
          "base_uri": "https://localhost:8080/",
          "height": 193
        },
        "id": "gxUmsnXH2KDh",
        "outputId": "0c543f27-58ee-460f-aa69-e3ada4ff15d8"
      },
      "execution_count": null,
      "outputs": [
        {
          "output_type": "error",
          "ename": "AttributeError",
          "evalue": "'tuple' object has no attribute 'add'",
          "traceback": [
            "\u001b[0;31m---------------------------------------------------------------------------\u001b[0m",
            "\u001b[0;31mAttributeError\u001b[0m                            Traceback (most recent call last)",
            "\u001b[0;32m<ipython-input-32-0bb1915531ce>\u001b[0m in \u001b[0;36m<cell line: 2>\u001b[0;34m()\u001b[0m\n\u001b[1;32m      1\u001b[0m \u001b[0ma\u001b[0m \u001b[0;34m=\u001b[0m \u001b[0;36m1\u001b[0m\u001b[0;34m,\u001b[0m \u001b[0;36m2\u001b[0m\u001b[0;34m,\u001b[0m \u001b[0;36m3\u001b[0m\u001b[0;34m\u001b[0m\u001b[0;34m\u001b[0m\u001b[0m\n\u001b[0;32m----> 2\u001b[0;31m \u001b[0ma\u001b[0m\u001b[0;34m.\u001b[0m\u001b[0madd\u001b[0m\u001b[0;34m(\u001b[0m\u001b[0;36m4\u001b[0m\u001b[0;34m)\u001b[0m\u001b[0;34m\u001b[0m\u001b[0;34m\u001b[0m\u001b[0m\n\u001b[0m\u001b[1;32m      3\u001b[0m \u001b[0mprint\u001b[0m\u001b[0;34m(\u001b[0m\u001b[0mtype\u001b[0m\u001b[0;34m(\u001b[0m\u001b[0ma\u001b[0m\u001b[0;34m)\u001b[0m\u001b[0;34m)\u001b[0m\u001b[0;34m\u001b[0m\u001b[0;34m\u001b[0m\u001b[0m\n\u001b[1;32m      4\u001b[0m \u001b[0mprint\u001b[0m\u001b[0;34m(\u001b[0m\u001b[0ma\u001b[0m\u001b[0;34m)\u001b[0m\u001b[0;34m\u001b[0m\u001b[0;34m\u001b[0m\u001b[0m\n",
            "\u001b[0;31mAttributeError\u001b[0m: 'tuple' object has no attribute 'add'"
          ]
        }
      ]
    },
    {
      "cell_type": "code",
      "source": [
        "a, = 1,\n",
        "print(type(a))\n",
        "print(a)"
      ],
      "metadata": {
        "colab": {
          "base_uri": "https://localhost:8080/"
        },
        "id": "Q3m6KD0R2NZ8",
        "outputId": "7012b32d-a8f5-496d-99bf-27edb0f75c07"
      },
      "execution_count": null,
      "outputs": [
        {
          "output_type": "stream",
          "name": "stdout",
          "text": [
            "<class 'tuple'>\n",
            "(1,)\n"
          ]
        }
      ]
    }
  ]
}