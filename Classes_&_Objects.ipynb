{
  "cells": [
    {
      "cell_type": "markdown",
      "metadata": {
        "id": "jrFiBTWZ4JFQ"
      },
      "source": [
        "#Classes and Objects\n",
        "##Attributes of an Object\n",
        "Attributes can be set or accessed using `.` (dot) character."
      ]
    },
    {
      "cell_type": "code",
      "execution_count": 1,
      "metadata": {
        "colab": {
          "base_uri": "https://localhost:8080/"
        },
        "id": "HjvbBGbO4DJB",
        "outputId": "4965d09f-6d38-4dda-ad61-11a6f1d915e4"
      },
      "outputs": [
        {
          "name": "stdout",
          "output_type": "stream",
          "text": [
            "iPhone 12 Pro\n"
          ]
        }
      ],
      "source": [
        "class Mobile:\n",
        "    def __init__(self, model, storage):\n",
        "        self.model = model\n",
        "        self.storage = storage\n",
        "\n",
        "\n",
        "obj = Mobile(\"iPhone 12 Pro\", \"128GB\")\n",
        "print(obj.model)"
      ]
    },
    {
      "cell_type": "markdown",
      "metadata": {
        "id": "Df5PGAxW4Zj9"
      },
      "source": [
        "##Accessing in Other Methods\n",
        "We can also access and update properties in other methods."
      ]
    },
    {
      "cell_type": "code",
      "execution_count": 3,
      "metadata": {
        "colab": {
          "base_uri": "https://localhost:8080/"
        },
        "id": "er-4uLky4crg",
        "outputId": "b1cbebaf-e201-4764-c89f-d29058bd814c"
      },
      "outputs": [
        {
          "name": "stdout",
          "output_type": "stream",
          "text": [
            "iPhone 12 Pro\n"
          ]
        }
      ],
      "source": [
        "class Mobile:\n",
        "    def __init__(self, model):\n",
        "        self.model = model\n",
        "\n",
        "    def get_model(self):\n",
        "        print(self.model)\n",
        "\n",
        "\n",
        "obj_1 = Mobile(\"iPhone 12 Pro\")\n",
        "obj_1.get_model()"
      ]
    },
    {
      "cell_type": "markdown",
      "metadata": {
        "id": "uKnhXHIX4dhi"
      },
      "source": [
        "##Updating Attributes\n",
        "It is recommended to update attributes through methods."
      ]
    },
    {
      "cell_type": "code",
      "execution_count": 4,
      "metadata": {
        "colab": {
          "base_uri": "https://localhost:8080/"
        },
        "id": "LWuxkrdP4itn",
        "outputId": "e8ab980b-8dce-47a8-f1e2-4e0f1fafcddc"
      },
      "outputs": [
        {
          "name": "stdout",
          "output_type": "stream",
          "text": [
            "iPhone 12\n",
            "iPhone 12 Pro\n"
          ]
        }
      ],
      "source": [
        "class Mobile:\n",
        "    def __init__(self, model):\n",
        "        self.model = model\n",
        "\n",
        "    def update_model(self, model):\n",
        "        self.model = model\n",
        "\n",
        "\n",
        "obj_1 = Mobile(\"iPhone 12\")\n",
        "print(obj_1.model)\n",
        "# obj_1.model= \"iPhone 12 Pro\"\n",
        "obj_1.update_model(\"iPhone 12 Pro\")\n",
        "obj_1.update_model(\"iPhone 12 Pro Max\")\n",
        "print(obj_1.model)"
      ]
    },
    {
      "cell_type": "markdown",
      "metadata": {
        "id": "1m6qPX4l4r0z"
      },
      "source": [
        "##Modeling Class\n",
        "Let’s model the scenario of shopping cart of ecommerce site.\n",
        "\n",
        "The features a cart should have\n",
        "\n",
        "* can add an item\n",
        "*can remove an item from cart\n",
        "*update quantity of an item\n",
        "*to show list of items in cart\n",
        "*to show total price for the items in the cart"
      ]
    },
    {
      "cell_type": "code",
      "execution_count": 7,
      "metadata": {
        "colab": {
          "base_uri": "https://localhost:8080/"
        },
        "id": "Zm9rVZV5BB_t",
        "outputId": "aa4e21fb-6d98-4c86-8886-10d3778a6d0a"
      },
      "outputs": [
        {
          "name": "stdout",
          "output_type": "stream",
          "text": [
            "['book', 'laptop']\n",
            "31500\n",
            "1500\n",
            "['book']\n"
          ]
        }
      ],
      "source": [
        "class Cart:\n",
        "    def __init__(self):\n",
        "        self.items = {}\n",
        "        self.price_details = {\"book\": 500, \"laptop\": 30000}\n",
        "\n",
        "    def add_item(self,item_name,quantity):\n",
        "      self.items[item_name]=quantity\n",
        "\n",
        "    def remove_item(self,item_name):\n",
        "      del self.items[item_name]\n",
        "\n",
        "    def update_quantity(self,item_name,quantity):\n",
        "      self.items[item_name]=quantity\n",
        "\n",
        "    def get_cart_items(self):\n",
        "      cart_items=list(self.items.keys())\n",
        "      return cart_items\n",
        "    def get_total_price(self):\n",
        "      total_price=0\n",
        "      for item,quantity in self.items.items():\n",
        "        total_price+=quantity*self.price_details[item]\n",
        "      return total_price\n",
        "\n",
        "cart1=Cart()\n",
        "\n",
        "cart1.add_item(\"book\",3)\n",
        "cart1.add_item(\"laptop\",1)\n",
        "print(cart1.get_cart_items())\n",
        "print(cart1.get_total_price())\n",
        "cart1.remove_item(\"laptop\")\n",
        "print(cart1.get_total_price())\n",
        "print(cart1.get_cart_items())\n",
        "\n",
        "\n"
      ]
    },
    {
      "cell_type": "code",
      "execution_count": 6,
      "metadata": {
        "id": "p3vdxoNICutg"
      },
      "outputs": [
        {
          "name": "stdout",
          "output_type": "stream",
          "text": [
            "Red\n",
            "250\n",
            "10\n",
            "3\n"
          ]
        }
      ],
      "source": [
        "# Implement the Car class appropriately\n",
        "class Car:\n",
        "    def __init__(self, color, max_speed, acceleration, tyre_friction):\n",
        "        self.color = color\n",
        "        self.max_speed = max_speed\n",
        "        self.acceleration = acceleration\n",
        "        self.tyre_friction = tyre_friction\n",
        "\n",
        "\n",
        "# You need not change any code below.\n",
        "# Do not call this function anywhere. It will automatically be called internally during tests.\n",
        "def default_test():\n",
        "    car = Car(color=\"Red\", max_speed=250, acceleration=10, tyre_friction=3)\n",
        "    print(car.color)\n",
        "    print(car.max_speed)\n",
        "    print(car.acceleration)\n",
        "    print(car.tyre_friction)\n",
        "default_test()"
      ]
    },
    {
      "cell_type": "markdown",
      "metadata": {
        "id": "8cF7iVnLDnHd"
      },
      "source": [
        "**output:**\n",
        "\n",
        "Red\n",
        "\n",
        "250\n",
        "\n",
        "10\n",
        "\n",
        "3"
      ]
    },
    {
      "cell_type": "code",
      "execution_count": 9,
      "metadata": {
        "id": "wzk_9bBRCuqB"
      },
      "outputs": [
        {
          "name": "stdout",
          "output_type": "stream",
          "text": [
            "False\n",
            "True\n",
            "False\n"
          ]
        }
      ],
      "source": [
        "# Car class should have the following attributes & methods\n",
        "#\n",
        "# Old Attributes:\n",
        "#   color, max_speed, acceleration, tyre_friction\n",
        "# New Attributes:\n",
        "#   is_engine_started\n",
        "#\n",
        "# Methods:\n",
        "#   start_engine: When this method is called, should set the value of attribute is_engine_started to True\n",
        "# which indicates that the car engine is turned on\n",
        "#\n",
        "#   stop_engine: When this method is called, should set the value of attribute is_engine_started to False\n",
        "# which indicates that car engine is turned off\n",
        "#\n",
        "# When a new car is created, the engine should be off by default\n",
        "\n",
        "\n",
        "# Implement the Car class appropriately\n",
        "class Car:\n",
        "    def __init__(self, color, max_speed, acceleration, tyre_friction):\n",
        "        self.color = color\n",
        "        self.max_speed = max_speed\n",
        "        self.acceleration = acceleration\n",
        "        self.tyre_friction = tyre_friction\n",
        "        self.is_engine_started = False\n",
        "\n",
        "    def start_engine(self):\n",
        "        self.is_engine_started = True\n",
        "\n",
        "    def stop_engine(self):\n",
        "        self.is_engine_started = False\n",
        "\n",
        "\n",
        "# You need not change any code below.\n",
        "# Do not call this function anywhere. It will automatically be called internally during tests.\n",
        "def default_test():\n",
        "    car = Car(color=\"Red\", max_speed=250, acceleration=10, tyre_friction=3)\n",
        "    print(car.is_engine_started)  # As car is not yet started, it should print False\n",
        "    car.start_engine()  # Starting the engine\n",
        "    print(car.is_engine_started)  # As engine is on, it should print True\n",
        "    car.stop_engine()  # Stopping the engine\n",
        "    print(car.is_engine_started)  # As engine is off, it should print False\n",
        "\n",
        "default_test()"
      ]
    },
    {
      "cell_type": "markdown",
      "metadata": {
        "id": "SLrzBLJEEMIl"
      },
      "source": [
        "**output:**\n",
        "\n",
        "False\n",
        "\n",
        "True\n",
        "\n",
        "False"
      ]
    },
    {
      "cell_type": "code",
      "execution_count": 11,
      "metadata": {
        "id": "dU7aaGN0Cunk"
      },
      "outputs": [
        {
          "name": "stdout",
          "output_type": "stream",
          "text": [
            "Car has not started yet\n",
            "0\n",
            "0\n",
            "10\n",
            "20\n",
            "50\n",
            "50\n"
          ]
        }
      ],
      "source": [
        "# Implement the Car class appropriately\n",
        "class Car:\n",
        "    def __init__(self, color, max_speed, acceleration, tyre_friction):\n",
        "        self.color = color\n",
        "        self.max_speed = max_speed\n",
        "        self.acceleration = acceleration\n",
        "        self.tyre_friction = tyre_friction\n",
        "        self.is_engine_started = False\n",
        "        self.current_speed = 0\n",
        "\n",
        "    def start_engine(self):\n",
        "        self.is_engine_started = True\n",
        "\n",
        "    def stop_engine(self):\n",
        "        self.is_engine_started = False\n",
        "\n",
        "    def accelerate(self):\n",
        "        if self.is_engine_started != True:\n",
        "            print(\"Car has not started yet\")\n",
        "        elif self.current_speed >= self.max_speed:\n",
        "            pass\n",
        "        else:\n",
        "            self.current_speed += self.acceleration\n",
        "            \n",
        "\n",
        "\n",
        "\n",
        "# You need not change any code below.\n",
        "# Do not call this function anywhere. It will automatically be called internally during tests.\n",
        "def default_test():\n",
        "    car = Car(color=\"Red\", max_speed=50, acceleration=10, tyre_friction=3)\n",
        "    car.accelerate()  # Calling the accelerate method when the is_engine_started is False\n",
        "    # The above line will print \"Car has not started yet\"\n",
        "    print(car.current_speed)\n",
        "    car.start_engine()  # Starting the car engine\n",
        "    print(car.current_speed)  # Car engine is started but not yet accelerated => 0\n",
        "    car.accelerate()  # Calling the accelerate method when the is_engine_started is True\n",
        "    print(car.current_speed)  # current_speed value has increased by acceleration value (0 + 10 => 10)\n",
        "    car.accelerate()\n",
        "    print(car.current_speed)  # current_speed value is 10 and increasing again by acceleration value (10 + 10 => 20)\n",
        "    car.accelerate()\n",
        "    car.accelerate()\n",
        "    car.accelerate()\n",
        "    print(car.current_speed)\n",
        "    car.accelerate()  # Accelerating the car more than its max_speed\n",
        "    print(car.current_speed)  # Any car cannot accelerate more than its max_speed => 50\n",
        "\n",
        "default_test()"
      ]
    },
    {
      "cell_type": "markdown",
      "metadata": {
        "id": "beMACBMCEleO"
      },
      "source": [
        "**output:**\n",
        "\n",
        "Car has not started yet\n",
        "\n",
        "0\n",
        "\n",
        "0\n",
        "\n",
        "10\n",
        "\n",
        "20\n",
        "\n",
        "50\n",
        "\n",
        "50"
      ]
    },
    {
      "cell_type": "code",
      "execution_count": 22,
      "metadata": {
        "id": "7jTaZ9F4Cuk0"
      },
      "outputs": [
        {
          "name": "stdout",
          "output_type": "stream",
          "text": [
            "10\n",
            "7\n",
            "4\n",
            "1\n",
            "0\n"
          ]
        }
      ],
      "source": [
        "# Implement the Car class appropriately\n",
        "class Car:\n",
        "    def __init__(self, color, max_speed, acceleration, tyre_friction):\n",
        "        self.color = color\n",
        "        self.max_speed = max_speed\n",
        "        self.acceleration = acceleration\n",
        "        self.tyre_friction = tyre_friction\n",
        "        self.is_engine_started = False\n",
        "        self.current_speed = 0\n",
        "\n",
        "    def start_engine(self):\n",
        "        self.is_engine_started = True\n",
        "\n",
        "    def stop_engine(self):\n",
        "        self.is_engine_started = False\n",
        "\n",
        "    def accelerate(self):\n",
        "        if self.is_engine_started != True:\n",
        "            print(\"Car has not started yet\")\n",
        "        elif self.current_speed >= self.max_speed:\n",
        "            pass\n",
        "        else:\n",
        "            self.current_speed += self.acceleration\n",
        "\n",
        "    def apply_brakes(self):\n",
        "        if self.current_speed <= 3:\n",
        "            self.current_speed = 0\n",
        "        else:\n",
        "            self.current_speed -= self.tyre_friction\n",
        "\n",
        "\n",
        "# You need not change any code below.\n",
        "# Do not call this function anywhere. It will automatically be called internally during tests.\n",
        "def default_test():\n",
        "    car = Car(color=\"Red\", max_speed=250, acceleration=10, tyre_friction=3)\n",
        "    car.start_engine()\n",
        "    car.accelerate()  # Calling the accelerate method when the is_engine_started is True\n",
        "    print(car.current_speed)  # 10\n",
        "    car.apply_brakes()  # Calling the apply_brakes method\n",
        "    # current_speed of the car should decrease according to the tyre_friction value.\n",
        "    print(car.current_speed)   # (10 - 3 => 7)\n",
        "    car.apply_brakes()\n",
        "    print(car.current_speed)  # 7 - 3 => 4\n",
        "    car.apply_brakes()\n",
        "    print(car.current_speed)  # 4 - 3 => 1\n",
        "    car.apply_brakes()\n",
        "    print(car.current_speed)  # 1 - 3 => 0 (current_speed should never go behind 0.)\n",
        "\n",
        "default_test()"
      ]
    },
    {
      "cell_type": "markdown",
      "metadata": {
        "id": "pKrlwmGPFESd"
      },
      "source": [
        "**output:**\n",
        "\n",
        "10\n",
        "\n",
        "7\n",
        "\n",
        "4\n",
        "\n",
        "1\n",
        "\n",
        "0"
      ]
    },
    {
      "cell_type": "code",
      "execution_count": 23,
      "metadata": {
        "id": "6nz2VbgMCuiF"
      },
      "outputs": [
        {
          "name": "stdout",
          "output_type": "stream",
          "text": [
            "Car has not started yet\n",
            "Beep Beep\n"
          ]
        }
      ],
      "source": [
        "# Car class should have the following attributes & methods\n",
        "#\n",
        "# Old Attributes:\n",
        "#   color, max_speed, acceleration, tyre_friction, is_engine_started, current_speed\n",
        "#\n",
        "# Old Methods:\n",
        "#   start_engine, stop_engine, accelerate, apply_brakes\n",
        "#\n",
        "# New Methods:\n",
        "#   sound_horn:\n",
        "#       - Print \"Beep Beep\" if car engine is on\n",
        "#       - Print \"Car has not started yet\" if car engine is off\n",
        "#\n",
        "# When a new car is created, the engine should be off by default and current_speed should be 0\n",
        "\n",
        "\n",
        "# Implement the Car class appropriately\n",
        "class Car:\n",
        "    def __init__(self, color, max_speed, acceleration, tyre_friction):\n",
        "        self.color = color\n",
        "        self.max_speed = max_speed\n",
        "        self.acceleration = acceleration\n",
        "        self.tyre_friction = tyre_friction\n",
        "        self.is_engine_started = False\n",
        "\n",
        "    def start_engine(self):\n",
        "        self.is_engine_started = True\n",
        "\n",
        "    def stop_engine(self):\n",
        "        self.is_engine_started = False\n",
        "\n",
        "    def accelerate(self):\n",
        "        if not self.is_engine_started:\n",
        "            print(\"Car has not started yet\")\n",
        "        elif self.current_speed >= self.max_speed:\n",
        "            pass\n",
        "        else:\n",
        "            self.current_speed += self.acceleration\n",
        "\n",
        "    def apply_brakes(self):\n",
        "        if self.current_speed <= 3:\n",
        "            self.current_speed = 0\n",
        "        else:\n",
        "            self.current_speed -= self.tyre_friction\n",
        "\n",
        "    def sound_horn(self):\n",
        "        if self.is_engine_started:\n",
        "            print(\"Beep Beep\")\n",
        "        else:\n",
        "            print(\"Car has not started yet\")\n",
        "\n",
        "\n",
        "# You need not change any code below.\n",
        "# Do not call this function anywhere. It will automatically be called internally during tests.\n",
        "def default_test():\n",
        "    car = Car(color=\"Red\", max_speed=250, acceleration=10, tyre_friction=3)\n",
        "    car.sound_horn()  # Calling the accelerate method when the is_engine_started is False\n",
        "    car.start_engine()  # Starting the engine\n",
        "    car.sound_horn()  # Calling the accelerate method when the is_engine_started is True\n",
        "\n",
        "default_test()"
      ]
    },
    {
      "cell_type": "markdown",
      "metadata": {
        "id": "ASQ6bGbADGjt"
      },
      "source": [
        "**output:**\n",
        "\n",
        "Car has not started yet\n",
        "\n",
        "Beep Beep"
      ]
    }
  ],
  "metadata": {
    "colab": {
      "provenance": []
    },
    "kernelspec": {
      "display_name": "Python 3",
      "name": "python3"
    },
    "language_info": {
      "codemirror_mode": {
        "name": "ipython",
        "version": 3
      },
      "file_extension": ".py",
      "mimetype": "text/x-python",
      "name": "python",
      "nbconvert_exporter": "python",
      "pygments_lexer": "ipython3",
      "version": "3.12.2"
    }
  },
  "nbformat": 4,
  "nbformat_minor": 0
}
