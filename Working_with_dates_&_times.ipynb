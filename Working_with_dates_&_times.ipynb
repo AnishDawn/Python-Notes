{
  "nbformat": 4,
  "nbformat_minor": 0,
  "metadata": {
    "colab": {
      "provenance": []
    },
    "kernelspec": {
      "name": "python3",
      "display_name": "Python 3"
    },
    "language_info": {
      "name": "python"
    }
  },
  "cells": [
    {
      "cell_type": "markdown",
      "source": [
        "##Working With Dates & Times\n",
        "#Datetime\n",
        "\n",
        "Python has a built-in **datetime**  module which provides convenient objects to work with dates and times."
      ],
      "metadata": {
        "id": "Yk55gVWLvapA"
      }
    },
    {
      "cell_type": "code",
      "execution_count": null,
      "metadata": {
        "id": "8o8zEKm9vSpo"
      },
      "outputs": [],
      "source": [
        "import datetime"
      ]
    },
    {
      "cell_type": "markdown",
      "source": [
        "#Datetime classes\n",
        "\n",
        "Commonly used **classes** in the datetime module are:\n",
        "\n",
        "* date class\n",
        "*time class\n",
        "*datetime class\n",
        "*timedelta class\n",
        "\n",
        "#Working with 'date' class\n",
        "#Representing Date\n",
        "\n",
        "A date object can be used to represent any valid **date** (year, month and day)."
      ],
      "metadata": {
        "id": "JGxlYikQvnBU"
      }
    },
    {
      "cell_type": "code",
      "source": [
        "import datetime\n",
        "\n",
        "date_object = datetime.date(2024,2,12)\n",
        "print(date_object)"
      ],
      "metadata": {
        "colab": {
          "base_uri": "https://localhost:8080/"
        },
        "id": "tv9ESi-BwBvD",
        "outputId": "354f189a-63cd-43f5-f3dc-ff84385789a2"
      },
      "execution_count": 5,
      "outputs": [
        {
          "output_type": "stream",
          "name": "stdout",
          "text": [
            "2024-02-12\n"
          ]
        }
      ]
    },
    {
      "cell_type": "code",
      "source": [
        "from datetime import date\n",
        "date_obj = date(2022, 2, 28)\n",
        "print(date_obj)"
      ],
      "metadata": {
        "colab": {
          "base_uri": "https://localhost:8080/"
        },
        "id": "AkYhM7pcf3R3",
        "outputId": "de507da7-1f95-4f2e-c3e9-47db97988caa"
      },
      "execution_count": 7,
      "outputs": [
        {
          "output_type": "stream",
          "name": "stdout",
          "text": [
            "2022-02-28\n"
          ]
        }
      ]
    },
    {
      "cell_type": "markdown",
      "source": [
        "#Date Object"
      ],
      "metadata": {
        "id": "9OeOpezPwCzU"
      }
    },
    {
      "cell_type": "code",
      "source": [
        "from datetime import date\n",
        "date_obj = date(2022, 2, 31)\n",
        "print(date_obj)"
      ],
      "metadata": {
        "id": "9w45wfNSwGls"
      },
      "execution_count": null,
      "outputs": []
    },
    {
      "cell_type": "markdown",
      "source": [
        "#Today’s Date\n",
        "\n",
        "Class method `today()`\n",
        " returns a date object with **today’s date**."
      ],
      "metadata": {
        "id": "WWOy8ueGwLDj"
      }
    },
    {
      "cell_type": "code",
      "source": [
        "import datetime\n",
        "\n",
        "date_object = datetime.date.today()\n",
        "print(date_object)"
      ],
      "metadata": {
        "colab": {
          "base_uri": "https://localhost:8080/"
        },
        "id": "5_pnLuJHwTXO",
        "outputId": "11134d3b-cfaf-4a37-e3dc-8c29c0951466"
      },
      "execution_count": 8,
      "outputs": [
        {
          "output_type": "stream",
          "name": "stdout",
          "text": [
            "2024-07-01\n"
          ]
        }
      ]
    },
    {
      "cell_type": "markdown",
      "source": [
        "#Attributes of Date Object"
      ],
      "metadata": {
        "id": "XqPapLDxwWZV"
      }
    },
    {
      "cell_type": "code",
      "source": [
        "from datetime import date\n",
        "\n",
        "date_object = date.today()\n",
        "print(date_object)\n",
        "print(date_object.year)\n",
        "print(date_object.month)\n",
        "print(date_object.day)"
      ],
      "metadata": {
        "colab": {
          "base_uri": "https://localhost:8080/"
        },
        "id": "1S-ET1jywY_O",
        "outputId": "42b5a3e6-faae-471f-da0c-257b90817ff8"
      },
      "execution_count": 10,
      "outputs": [
        {
          "output_type": "stream",
          "name": "stdout",
          "text": [
            "2024-07-01\n",
            "2024\n",
            "7\n",
            "1\n"
          ]
        }
      ]
    },
    {
      "cell_type": "markdown",
      "source": [
        "##Working with ‘time’ Class\n",
        "#Representing Time\n",
        "\n",
        "A time object can be used to represent any valid **time** (hours, minutes and seconds)."
      ],
      "metadata": {
        "id": "zyiPWNycwdJX"
      }
    },
    {
      "cell_type": "code",
      "source": [
        "from datetime import time\n",
        "\n",
        "time_object = time(11, 34, 56)\n",
        "print(time_object)"
      ],
      "metadata": {
        "colab": {
          "base_uri": "https://localhost:8080/"
        },
        "id": "rqXennjFwlT4",
        "outputId": "8d4b6b06-b3c4-4eff-d40b-77fe3f748b9c"
      },
      "execution_count": 11,
      "outputs": [
        {
          "output_type": "stream",
          "name": "stdout",
          "text": [
            "11:34:56\n"
          ]
        }
      ]
    },
    {
      "cell_type": "markdown",
      "source": [
        "#Attributes of Time Object"
      ],
      "metadata": {
        "id": "RTXtRSPLwn96"
      }
    },
    {
      "cell_type": "code",
      "source": [
        "from datetime import time\n",
        "\n",
        "time_object = time(11, 34, 56)\n",
        "print(time_object)\n",
        "print(time_object.hour)\n",
        "print(time_object.minute)\n",
        "print(time_object.second)"
      ],
      "metadata": {
        "colab": {
          "base_uri": "https://localhost:8080/"
        },
        "id": "783caiZrwq_8",
        "outputId": "6c6d466b-2333-4eef-9eaf-1a880b34d3cd"
      },
      "execution_count": 14,
      "outputs": [
        {
          "output_type": "stream",
          "name": "stdout",
          "text": [
            "11:34:56\n",
            "11\n",
            "34\n",
            "56\n"
          ]
        }
      ]
    },
    {
      "cell_type": "markdown",
      "source": [
        "##Working with ‘datetime’ Class\n",
        "#Datetime\n",
        "\n",
        "The datetime class represents a valid **date and time** together.\n",
        "\n",
        "Example - 1"
      ],
      "metadata": {
        "id": "STNV4di6wvX8"
      }
    },
    {
      "cell_type": "code",
      "source": [
        "from datetime import datetime\n",
        "\n",
        "date_time_obj = datetime(2018, 11, 28, 10, 15, 26)\n",
        "print(date_time_obj.year)\n",
        "print(date_time_obj.month)\n",
        "print(date_time_obj.hour)\n",
        "print(date_time_obj)"
      ],
      "metadata": {
        "colab": {
          "base_uri": "https://localhost:8080/"
        },
        "id": "At5R0pxmw057",
        "outputId": "5c8e7345-3de1-4cb6-eac8-87270348a37d"
      },
      "execution_count": 16,
      "outputs": [
        {
          "output_type": "stream",
          "name": "stdout",
          "text": [
            "2018\n",
            "11\n",
            "10\n",
            "2018-11-28 10:15:26\n"
          ]
        }
      ]
    },
    {
      "cell_type": "markdown",
      "source": [
        "Example - 2\n",
        "\n",
        "It gives the current date and time"
      ],
      "metadata": {
        "id": "kuCS2mcaw8jX"
      }
    },
    {
      "cell_type": "code",
      "source": [
        "from datetime import datetime\n",
        "\n",
        "datetime_object = datetime.now()\n",
        "print(datetime_object)"
      ],
      "metadata": {
        "colab": {
          "base_uri": "https://localhost:8080/"
        },
        "id": "qblX6Pqow_x9",
        "outputId": "6d82b375-4742-4022-fb87-0766e3ed51cf"
      },
      "execution_count": 19,
      "outputs": [
        {
          "output_type": "stream",
          "name": "stdout",
          "text": [
            "2024-07-01 09:09:15.563417\n"
          ]
        }
      ]
    },
    {
      "cell_type": "markdown",
      "source": [
        "#DateTime object"
      ],
      "metadata": {
        "id": "TzLIiDdhw8hN"
      }
    },
    {
      "cell_type": "code",
      "source": [
        "from datetime import datetime\n",
        "date_time_obj = datetime(2018, 11, 28)\n",
        "print(date_time_obj)"
      ],
      "metadata": {
        "colab": {
          "base_uri": "https://localhost:8080/"
        },
        "id": "S9CP2xHlxFm0",
        "outputId": "5dea2564-06be-4866-a1ed-8cacb6e38aec"
      },
      "execution_count": 20,
      "outputs": [
        {
          "output_type": "stream",
          "name": "stdout",
          "text": [
            "2018-11-28 00:00:00\n"
          ]
        }
      ]
    },
    {
      "cell_type": "markdown",
      "source": [
        "##Formatting Datetime\n",
        "\n",
        "The datetime classes have strftime(format)\n",
        " method to format the datetime into any required format like\n",
        "\n",
        "* mm/dd/yyyy\n",
        "*dd-mm-yyyy\n",
        "\n",
        "![cls.png](data:image/png;base64,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)"
      ],
      "metadata": {
        "id": "5ThWVOGjw8ew"
      }
    },
    {
      "cell_type": "code",
      "source": [
        "from datetime import datetime\n",
        "\n",
        "now = datetime.now()\n",
        "formatted_datetime_1 = now.strftime(\"%d %b %Y %I:%M:%S %p\")\n",
        "print(formatted_datetime_1)\n",
        "\n",
        "formatted_datetime_2 = now.strftime(\"%d/%m/%Y, %H:%M:%S\")\n",
        "print(formatted_datetime_2)"
      ],
      "metadata": {
        "colab": {
          "base_uri": "https://localhost:8080/"
        },
        "id": "rDuTdVzwxjkW",
        "outputId": "271dfaed-d334-45fa-8e40-ba84c6f07472"
      },
      "execution_count": 21,
      "outputs": [
        {
          "output_type": "stream",
          "name": "stdout",
          "text": [
            "01 Jul 2024 09:18:27 AM\n",
            "01/07/2024, 09:18:27\n"
          ]
        }
      ]
    },
    {
      "cell_type": "markdown",
      "source": [
        "#Parsing Datetime\n",
        "\n",
        "The class method `strptime()`\n",
        " creates a **datetime object** from a given string representing date and time."
      ],
      "metadata": {
        "id": "tD_pfxptw8bU"
      }
    },
    {
      "cell_type": "code",
      "source": [
        "from datetime import datetime\n",
        "\n",
        "date_string = \"28 November, 2018\"\n",
        "print(date_string)\n",
        "\n",
        "date_object = datetime.strptime(date_string, \"%d %B, %Y\")\n",
        "print(date_object)"
      ],
      "metadata": {
        "colab": {
          "base_uri": "https://localhost:8080/"
        },
        "id": "Qy86t1fqyByo",
        "outputId": "8d7db48d-5212-4ca1-e399-4bad4b2b5f38"
      },
      "execution_count": 22,
      "outputs": [
        {
          "output_type": "stream",
          "name": "stdout",
          "text": [
            "28 November, 2018\n",
            "2018-11-28 00:00:00\n"
          ]
        }
      ]
    },
    {
      "cell_type": "markdown",
      "source": [
        "#Working with ‘timedelta’ Class\n",
        "\n",
        "Timedelta object represents **duration**.\n",
        "Example 1"
      ],
      "metadata": {
        "id": "hdV9SJu-w8Xe"
      }
    },
    {
      "cell_type": "code",
      "source": [
        "from datetime import timedelta\n",
        "\n",
        "delta = timedelta(days=365, hours=4)\n",
        "print(delta)"
      ],
      "metadata": {
        "colab": {
          "base_uri": "https://localhost:8080/"
        },
        "id": "OJKePKmXyJZU",
        "outputId": "79f312a5-aed3-4789-e8a3-748cd50d1477"
      },
      "execution_count": 23,
      "outputs": [
        {
          "output_type": "stream",
          "name": "stdout",
          "text": [
            "365 days, 4:00:00\n"
          ]
        }
      ]
    },
    {
      "cell_type": "code",
      "source": [
        "from datetime import timedelta, datetime\n",
        "delta = timedelta(days=300, hours=6)\n",
        "current_datetime = datetime.now()\n",
        "print(current_datetime)\n",
        "next_year_datetime = current_datetime + delta\n",
        "print(next_year_datetime)"
      ],
      "metadata": {
        "colab": {
          "base_uri": "https://localhost:8080/"
        },
        "id": "CNMGiZ6dyLif",
        "outputId": "91308a06-51ab-4752-b561-037cf03bdcc0"
      },
      "execution_count": 26,
      "outputs": [
        {
          "output_type": "stream",
          "name": "stdout",
          "text": [
            "2024-07-01 09:26:20.793650\n",
            "2025-04-27 15:26:20.793650\n"
          ]
        }
      ]
    },
    {
      "cell_type": "markdown",
      "source": [
        "#Calculating Time Difference"
      ],
      "metadata": {
        "id": "amhxCNgbyN-4"
      }
    },
    {
      "cell_type": "code",
      "source": [
        "import datetime\n",
        "\n",
        "dt1 = datetime.datetime(2021, 2, 5)\n",
        "dt2 = datetime.datetime(2022, 1, 1)\n",
        "duration = dt2 - dt1\n",
        "print(duration)\n",
        "print(type(duration))"
      ],
      "metadata": {
        "colab": {
          "base_uri": "https://localhost:8080/"
        },
        "id": "n3tDD95RySY2",
        "outputId": "89a4cfe1-ac12-47eb-cfb7-81067c23a82a"
      },
      "execution_count": 27,
      "outputs": [
        {
          "output_type": "stream",
          "name": "stdout",
          "text": [
            "330 days, 0:00:00\n",
            "<class 'datetime.timedelta'>\n"
          ]
        }
      ]
    }
  ]
}