{
  "cells": [
    {
      "cell_type": "markdown",
      "metadata": {
        "id": "gGOaX3oRBs5P"
      },
      "source": [
        "#List Methods\n",
        "Python provides list methods that allow us to work with lists.\n",
        "\n",
        "Let’s learn few among them\n",
        "\n",
        "* append()\n",
        "* extend()\n",
        "* insert()\n",
        "* pop()\n",
        "*clear()\n",
        "*remove()\n",
        "*sort()\n",
        "*index()"
      ]
    },
    {
      "cell_type": "markdown",
      "metadata": {
        "id": "nzcwIT2hB_Fy"
      },
      "source": [
        "##Append\n",
        "`list.append(value)` Adds an element to the end of the list.\n",
        "\n"
      ]
    },
    {
      "cell_type": "code",
      "execution_count": 1,
      "metadata": {
        "colab": {
          "base_uri": "https://localhost:8080/"
        },
        "id": "v8AlQrzbBM08",
        "outputId": "ba04f7d3-1b8f-4f19-923d-eb53fe76f2f3"
      },
      "outputs": [
        {
          "name": "stdout",
          "output_type": "stream",
          "text": [
            "[1, 2, 3]\n"
          ]
        }
      ],
      "source": [
        "list_a = []\n",
        "for x in range(1,4):\n",
        "    list_a.append(x)\n",
        "print(list_a)"
      ]
    },
    {
      "cell_type": "markdown",
      "metadata": {
        "id": "Ca5UvEY_CItX"
      },
      "source": [
        "##Extend\n",
        "`list_a.extend(list_b)`  Adds all the elements of a sequence to the end of the list."
      ]
    },
    {
      "cell_type": "code",
      "execution_count": 5,
      "metadata": {
        "colab": {
          "base_uri": "https://localhost:8080/"
        },
        "id": "MLNPfymHCWSq",
        "outputId": "43473ecf-ec48-4b1c-833c-bafcf65e751d"
      },
      "outputs": [
        {
          "name": "stdout",
          "output_type": "stream",
          "text": [
            "[4, 5, 6, 1, 2, 3]\n"
          ]
        }
      ],
      "source": [
        "list_a = [1, 2, 3]\n",
        "list_b = [4, 5, 6]\n",
        "list_b.extend(list_a)\n",
        "print(list_b)"
      ]
    },
    {
      "cell_type": "markdown",
      "metadata": {
        "id": "DGgvEMUTCVGP"
      },
      "source": [
        "##Insert\n",
        "`list.insert(index,value)` Element is inserted to the list at specified index."
      ]
    },
    {
      "cell_type": "code",
      "execution_count": 6,
      "metadata": {
        "colab": {
          "base_uri": "https://localhost:8080/"
        },
        "id": "GEgse-6ICg4Z",
        "outputId": "202bb453-c34a-4f74-e2a8-c44c0f8a41a1"
      },
      "outputs": [
        {
          "name": "stdout",
          "output_type": "stream",
          "text": [
            "[1, 4, 2, 3]\n"
          ]
        }
      ],
      "source": [
        "list_a = [1, 2, 3]\n",
        "list_a.insert(1,4)\n",
        "print(list_a)"
      ]
    },
    {
      "cell_type": "markdown",
      "metadata": {
        "id": "91GIX2UcCoOA"
      },
      "source": [
        "##Pop\n",
        "`list.pop()` Removes last element."
      ]
    },
    {
      "cell_type": "code",
      "execution_count": 2,
      "metadata": {
        "colab": {
          "base_uri": "https://localhost:8080/"
        },
        "id": "nOqgPi_mC5-7",
        "outputId": "a45df79c-dd84-4bb6-ce48-ef4664b7ca3c"
      },
      "outputs": [
        {
          "name": "stdout",
          "output_type": "stream",
          "text": [
            "[1, 2]\n",
            "3\n"
          ]
        }
      ],
      "source": [
        "list_a = [1, 2, 3]\n",
        "list_a.pop()\n",
        "print(list_a)\n"
      ]
    },
    {
      "cell_type": "markdown",
      "metadata": {
        "id": "zhgWx2hfDAb9"
      },
      "source": [
        "##Remove\n",
        "`list.remove(value)` Removes the first matching element from the list."
      ]
    },
    {
      "cell_type": "code",
      "execution_count": 8,
      "metadata": {
        "colab": {
          "base_uri": "https://localhost:8080/"
        },
        "id": "SZKnlSW7DD75",
        "outputId": "ceb1a84a-8ebe-4f14-d465-5e2fb66e2387"
      },
      "outputs": [
        {
          "name": "stdout",
          "output_type": "stream",
          "text": [
            "[1, 2, 3]\n"
          ]
        }
      ],
      "source": [
        "list_a = [1, 3, 2, 3]\n",
        "list_a.remove(3)\n",
        "print(list_a)"
      ]
    },
    {
      "cell_type": "markdown",
      "metadata": {
        "id": "LwoOhhQ4DKxC"
      },
      "source": [
        "##Clear\n",
        "`list.clear()` Removes all the items from the list."
      ]
    },
    {
      "cell_type": "code",
      "execution_count": 9,
      "metadata": {
        "colab": {
          "base_uri": "https://localhost:8080/"
        },
        "id": "_GzHfCixDRfP",
        "outputId": "798a9615-d5e9-4306-c95d-05f93070397e"
      },
      "outputs": [
        {
          "name": "stdout",
          "output_type": "stream",
          "text": [
            "[]\n"
          ]
        }
      ],
      "source": [
        "list_a = [1, 2, 3]\n",
        "list_a.clear()\n",
        "print(list_a)"
      ]
    },
    {
      "cell_type": "markdown",
      "metadata": {
        "id": "GMq4nEfyDKXY"
      },
      "source": [
        "##Index\n",
        "`list.index(value)` Returns the index at the first occurrence of the specified value.\n"
      ]
    },
    {
      "cell_type": "code",
      "execution_count": 10,
      "metadata": {
        "colab": {
          "base_uri": "https://localhost:8080/"
        },
        "id": "F5bO4ZBpDfiu",
        "outputId": "bbd9b3f1-c089-4c61-a6b8-f97e1d20f3a5"
      },
      "outputs": [
        {
          "name": "stdout",
          "output_type": "stream",
          "text": [
            "1\n"
          ]
        }
      ],
      "source": [
        "list_a = [1, 3, 2, 3]\n",
        "index =list_a.index(3)\n",
        "print(index)"
      ]
    },
    {
      "cell_type": "markdown",
      "metadata": {
        "id": "0hO9mY-9Dnsu"
      },
      "source": [
        "##Count\n",
        "`list.count(value)`  Returns the number of elements with the specified value."
      ]
    },
    {
      "cell_type": "code",
      "execution_count": 11,
      "metadata": {
        "colab": {
          "base_uri": "https://localhost:8080/"
        },
        "id": "8kzzymOmD05M",
        "outputId": "fc1f8f33-baad-4b19-b9b8-aed7a61d801b"
      },
      "outputs": [
        {
          "name": "stdout",
          "output_type": "stream",
          "text": [
            "3\n"
          ]
        }
      ],
      "source": [
        "list_a = [1, 2, 3, 3, 3]\n",
        "count = list_a.count(3)\n",
        "print(count)"
      ]
    },
    {
      "cell_type": "markdown",
      "metadata": {
        "id": "2zSsHuOpEle4"
      },
      "source": [
        "##Sort\n",
        "`list.sort()` Sorts the list."
      ]
    },
    {
      "cell_type": "code",
      "execution_count": 1,
      "metadata": {
        "colab": {
          "base_uri": "https://localhost:8080/"
        },
        "id": "F_bx1ImeEqh1",
        "outputId": "f8d3f939-d692-4b8f-dcfd-e8ad62898a89"
      },
      "outputs": [
        {
          "name": "stdout",
          "output_type": "stream",
          "text": [
            "[1, 2, 3, 3]\n"
          ]
        }
      ],
      "source": [
        "list_a = [1, 3, 2, 3]\n",
        "list_a.sort()\n",
        "print(list_a)"
      ]
    },
    {
      "cell_type": "markdown",
      "metadata": {
        "id": "3BtMBlU0EyJB"
      },
      "source": [
        "##Sort & Sorted\n",
        "`sort()`  Modifies the list"
      ]
    },
    {
      "cell_type": "code",
      "execution_count": null,
      "metadata": {
        "id": "XCARqciuFRgw"
      },
      "outputs": [],
      "source": [
        "list_a = [1, 3, 2]\n",
        "list_a.sort()\n",
        "print(list_a)"
      ]
    },
    {
      "cell_type": "markdown",
      "metadata": {
        "id": "hjpxyWDLFsN-"
      },
      "source": [
        "`sorted()` Creates a new sorted list"
      ]
    },
    {
      "cell_type": "code",
      "execution_count": 14,
      "metadata": {
        "colab": {
          "base_uri": "https://localhost:8080/"
        },
        "id": "ZRC7CZ70Frgg",
        "outputId": "41f8384f-f62b-4cf2-aa5d-0af6e38f79ff"
      },
      "outputs": [
        {
          "name": "stdout",
          "output_type": "stream",
          "text": [
            "[1, 3, 2]\n",
            "[1, 2, 3]\n"
          ]
        }
      ],
      "source": [
        "list_a = [1, 3, 2]\n",
        "a=sorted(list_a)\n",
        "print(list_a)\n",
        "print(a)"
      ]
    }
  ],
  "metadata": {
    "colab": {
      "provenance": []
    },
    "kernelspec": {
      "display_name": "Python 3",
      "name": "python3"
    },
    "language_info": {
      "codemirror_mode": {
        "name": "ipython",
        "version": 3
      },
      "file_extension": ".py",
      "mimetype": "text/x-python",
      "name": "python",
      "nbconvert_exporter": "python",
      "pygments_lexer": "ipython3",
      "version": "3.12.2"
    }
  },
  "nbformat": 4,
  "nbformat_minor": 0
}
