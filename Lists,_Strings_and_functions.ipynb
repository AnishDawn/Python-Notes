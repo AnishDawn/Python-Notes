{
  "cells": [
    {
      "cell_type": "markdown",
      "metadata": {
        "id": "5mYnQD-G54go"
      },
      "source": [
        "# Lists and Strings"
      ]
    },
    {
      "cell_type": "markdown",
      "metadata": {
        "id": "1J8vFIlV56ud"
      },
      "source": [
        "##Splitting\n",
        "`str_var.split(separator)`\n",
        "\n",
        "Splits a string into a list at every specified separator.\n",
        "\n",
        "If no separator is specified, default separator is whitespace."
      ]
    },
    {
      "cell_type": "code",
      "execution_count": null,
      "metadata": {
        "colab": {
          "base_uri": "https://localhost:8080/"
        },
        "id": "JMZDJpiS6DwC",
        "outputId": "186a99f6-c37a-4f58-842f-a8ac9f1ad1b2"
      },
      "outputs": [
        {
          "name": "stdout",
          "output_type": "stream",
          "text": [
            "['1 2 33,45 4k', '', '', 'kh', 'k', '']\n"
          ]
        }
      ],
      "source": [
        "nums = \"1 2 33,45 4klllkhlkl\"\n",
        "num_list = nums.split(\"l\")\n",
        "print(num_list)"
      ]
    },
    {
      "cell_type": "markdown",
      "metadata": {
        "id": "YXj3GW8O6Hgv"
      },
      "source": [
        "##Multiple WhiteSpaces\n",
        "Multiple whitespaces are considered as single when splitting."
      ]
    },
    {
      "cell_type": "code",
      "execution_count": null,
      "metadata": {
        "colab": {
          "base_uri": "https://localhost:8080/"
        },
        "id": "Yd8yNb4F6JAi",
        "outputId": "040c6439-e348-4d90-90d2-ba9cc649be1c"
      },
      "outputs": [
        {
          "name": "stdout",
          "output_type": "stream",
          "text": [
            "['1', '2', '3', '4']\n"
          ]
        }
      ],
      "source": [
        "nums = \"1 2 3 4 \"\n",
        "num_list = nums.split()\n",
        "print(num_list)"
      ]
    },
    {
      "cell_type": "markdown",
      "metadata": {
        "id": "InK8z_r36PdA"
      },
      "source": [
        "New line `\\n` and tab space `\\t` are also whitespace."
      ]
    },
    {
      "cell_type": "code",
      "execution_count": null,
      "metadata": {
        "colab": {
          "base_uri": "https://localhost:8080/"
        },
        "id": "RJinu7re6Zvq",
        "outputId": "6323729d-2a83-405f-ffe6-0fe9c0fa532e"
      },
      "outputs": [
        {
          "name": "stdout",
          "output_type": "stream",
          "text": [
            "['1', '2', '3', '4']\n"
          ]
        }
      ],
      "source": [
        "nums = \"1\\n2\\t3 4\"\n",
        "num_list = nums.split()\n",
        "print(num_list)"
      ]
    },
    {
      "cell_type": "markdown",
      "metadata": {
        "id": "kk_u7Me-6adi"
      },
      "source": [
        "##Using Separator\n",
        "Breaks up a string at the specified separator.\n",
        "\n",
        "**Example -1**"
      ]
    },
    {
      "cell_type": "code",
      "execution_count": null,
      "metadata": {
        "colab": {
          "base_uri": "https://localhost:8080/"
        },
        "id": "W1GQarqe6gur",
        "outputId": "36530623-849d-498e-cb53-ea19bcea892a"
      },
      "outputs": [
        {
          "name": "stdout",
          "output_type": "stream",
          "text": [
            "['1', '2', '3', '4']\n"
          ]
        }
      ],
      "source": [
        "nums = \"1,2,3,4\"\n",
        "num_list = nums.split(',')\n",
        "print(num_list)"
      ]
    },
    {
      "cell_type": "markdown",
      "metadata": {
        "id": "KcZ0ZBvz6lJ5"
      },
      "source": [
        "**Example -2**"
      ]
    },
    {
      "cell_type": "code",
      "execution_count": null,
      "metadata": {
        "colab": {
          "base_uri": "https://localhost:8080/"
        },
        "id": "MrL5YJrL6m6F",
        "outputId": "4afe3921-f321-4908-cee4-04a73c6445b4"
      },
      "outputs": [
        {
          "name": "stdout",
          "output_type": "stream",
          "text": [
            "['1', '2', '', '3', '4', '']\n"
          ]
        }
      ],
      "source": [
        "nums = \"1,2,,3,4,\"\n",
        "num_list = nums.split(',')\n",
        "print(num_list)"
      ]
    },
    {
      "cell_type": "markdown",
      "metadata": {
        "id": "azKKB62F6k70"
      },
      "source": [
        "##Space as Separator"
      ]
    },
    {
      "cell_type": "code",
      "execution_count": null,
      "metadata": {
        "colab": {
          "base_uri": "https://localhost:8080/"
        },
        "id": "IaHG7OBy6wiU",
        "outputId": "273b5d72-1f5c-4229-b817-0933007f0cfd"
      },
      "outputs": [
        {
          "name": "stdout",
          "output_type": "stream",
          "text": [
            "['1', '', '2', '3', '4', '']\n"
          ]
        }
      ],
      "source": [
        "nums = \"1  2 3 4 \"\n",
        "num_list = nums.split(\" \")\n",
        "print(num_list)"
      ]
    },
    {
      "cell_type": "markdown",
      "metadata": {
        "id": "i4U4_v2t65sM"
      },
      "source": [
        "##String as Separator\n",
        "**Example - 1**\n",
        "\n"
      ]
    },
    {
      "cell_type": "code",
      "execution_count": null,
      "metadata": {
        "colab": {
          "base_uri": "https://localhost:8080/"
        },
        "id": "nyi0954N6_uE",
        "outputId": "3f7c47af-bb4e-40ee-b2fa-d3432ce5f62c"
      },
      "outputs": [
        {
          "name": "stdout",
          "output_type": "stream",
          "text": [
            "['Python is ', ' progr', 'mming l', 'ngu', 'ge']\n"
          ]
        }
      ],
      "source": [
        "string_a = \"Python is a programming language\"\n",
        "list_a = string_a.split('a')\n",
        "print(list_a)"
      ]
    },
    {
      "cell_type": "markdown",
      "metadata": {
        "id": "BrSMlVts7CRf"
      },
      "source": [
        "**Example - 2**"
      ]
    },
    {
      "cell_type": "code",
      "execution_count": null,
      "metadata": {
        "colab": {
          "base_uri": "https://localhost:8080/"
        },
        "id": "lvt-g7xW7FrQ",
        "outputId": "4ea654d9-1238-4b17-9b74-7fc605806176"
      },
      "outputs": [
        {
          "name": "stdout",
          "output_type": "stream",
          "text": [
            "['', '-by-', ' execution of code ', '']\n"
          ]
        }
      ],
      "source": [
        "string_a = \"step-by-step execution of code step\"\n",
        "list_a = string_a.split('step')\n",
        "print(list_a)"
      ]
    },
    {
      "cell_type": "markdown",
      "metadata": {
        "id": "TlArugA47AbE"
      },
      "source": [
        "##Joining\n",
        "`str.join(sequence)`\n",
        "\n",
        "Takes all the items in a sequence of strings and joins them into one string."
      ]
    },
    {
      "cell_type": "code",
      "execution_count": 2,
      "metadata": {
        "colab": {
          "base_uri": "https://localhost:8080/"
        },
        "id": "-FTdworQ7TvE",
        "outputId": "98e9b4d2-55bb-497b-a8a4-d71f685a8955"
      },
      "outputs": [
        {
          "name": "stdout",
          "output_type": "stream",
          "text": [
            "Python is a programming language\n"
          ]
        }
      ],
      "source": [
        "list_a = ['Python is ', ' progr', 'mming l', 'ngu', 'ge']\n",
        "string_a = \"a\".join(list_a)\n",
        "print(string_a)"
      ]
    },
    {
      "cell_type": "markdown",
      "metadata": {
        "id": "q5NdKLKx7YYI"
      },
      "source": [
        "##Joining Non String Values\n",
        "Sequence should not contain any non-string values."
      ]
    },
    {
      "cell_type": "code",
      "execution_count": null,
      "metadata": {
        "colab": {
          "base_uri": "https://localhost:8080/"
        },
        "id": "WuNQ2jGP7XFw",
        "outputId": "109b6cc8-4899-4539-db9f-95d6017aa368"
      },
      "outputs": [
        {
          "name": "stdout",
          "output_type": "stream",
          "text": [
            "1,2,3,4\n"
          ]
        }
      ],
      "source": [
        "list_a = list(\"1234\")\n",
        "string_a = \",\".join(list_a)\n",
        "print(string_a)"
      ]
    },
    {
      "cell_type": "markdown",
      "metadata": {
        "id": "GS6JIU-e7eg7"
      },
      "source": [
        "#Negative Indexing\n",
        "Using a negative index returns the nth item from the end of list.\n",
        "\n",
        "Last item in the list can be accessed with index `-1`\n",
        "\n",
        "![image.png](data:image/png;base64,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)"
      ]
    },
    {
      "cell_type": "markdown",
      "metadata": {
        "id": "zlKDTtUB7qd6"
      },
      "source": [
        "##Reversing a List\n",
        "`-1` for step will reverse the order of items in the list."
      ]
    },
    {
      "cell_type": "code",
      "execution_count": 3,
      "metadata": {
        "colab": {
          "base_uri": "https://localhost:8080/"
        },
        "id": "nkn-QWyK7oLX",
        "outputId": "b9586b9b-4496-4538-c0ce-42068a7963a6"
      },
      "outputs": [
        {
          "name": "stdout",
          "output_type": "stream",
          "text": [
            "[1, 2, 3, 4, 5]\n"
          ]
        }
      ],
      "source": [
        "list_a = [5, 4, 3, 2, 1]\n",
        "list_b = list_a[::-1]\n",
        "print(list_b)"
      ]
    },
    {
      "cell_type": "markdown",
      "metadata": {
        "id": "pCuTUGuE73FM"
      },
      "source": [
        "##Accessing List Items\n",
        "**Example-1**"
      ]
    },
    {
      "cell_type": "code",
      "execution_count": null,
      "metadata": {
        "colab": {
          "base_uri": "https://localhost:8080/"
        },
        "id": "30zFvgm-78VT",
        "outputId": "cc13b583-98f0-46c8-e73b-4bcd474911e5"
      },
      "outputs": [
        {
          "name": "stdout",
          "output_type": "stream",
          "text": [
            "1\n"
          ]
        }
      ],
      "source": [
        "list_a = [5, 4, 3, 2, 1]\n",
        "item = list_a[-1]\n",
        "print(item)"
      ]
    },
    {
      "cell_type": "markdown",
      "metadata": {
        "id": "HQ89v2c679DE"
      },
      "source": [
        "**Example-2**"
      ]
    },
    {
      "cell_type": "code",
      "execution_count": null,
      "metadata": {
        "colab": {
          "base_uri": "https://localhost:8080/"
        },
        "id": "tZ4DvOP38DCT",
        "outputId": "36a33dd7-362b-482b-8259-800150e38473"
      },
      "outputs": [
        {
          "name": "stdout",
          "output_type": "stream",
          "text": [
            "4\n"
          ]
        }
      ],
      "source": [
        "list_a = [5, 4, 3, 2, 1]\n",
        "item = list_a[-4]\n",
        "print(item)"
      ]
    },
    {
      "cell_type": "markdown",
      "metadata": {
        "id": "xh9Gfy0Y8FfJ"
      },
      "source": [
        "##Slicing With Negative Index\n",
        "You can also specify negative indices while slicing a List.  "
      ]
    },
    {
      "cell_type": "code",
      "execution_count": null,
      "metadata": {
        "colab": {
          "base_uri": "https://localhost:8080/"
        },
        "id": "PyJ7jZpb8Jwv",
        "outputId": "af2e3096-6044-46fb-b09c-47549e573226"
      },
      "outputs": [
        {
          "name": "stdout",
          "output_type": "stream",
          "text": [
            "[3, 2, 1]\n"
          ]
        }
      ],
      "source": [
        "list_a = [5, 4, 3, 2, 1]\n",
        "list_b = list_a[-3:]\n",
        "print(list_b)"
      ]
    },
    {
      "cell_type": "markdown",
      "metadata": {
        "id": "DKj7Rkbx8OWW"
      },
      "source": [
        "![image.png](data:image/png;base64,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)\n",
        "\n",
        "##Out of Bounds Index\n",
        "While slicing, Index can go out of bounds."
      ]
    },
    {
      "cell_type": "code",
      "execution_count": null,
      "metadata": {
        "colab": {
          "base_uri": "https://localhost:8080/"
        },
        "id": "8L1Jv3VS8RX-",
        "outputId": "03cc0118-6020-4c01-d402-89faaf8c4146"
      },
      "outputs": [
        {
          "name": "stdout",
          "output_type": "stream",
          "text": [
            "[5, 4, 3]\n"
          ]
        }
      ],
      "source": [
        "list_a = [5, 4, 3, 2, 1]\n",
        "list_b = list_a[-6:-2]\n",
        "print(list_b)"
      ]
    },
    {
      "cell_type": "markdown",
      "metadata": {
        "id": "bqB3aSpX8lRy"
      },
      "source": [
        "![image.png](data:image/png;base64,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)"
      ]
    },
    {
      "cell_type": "markdown",
      "metadata": {
        "id": "tXh1VAnF8qTC"
      },
      "source": [
        "##Negative Step Size\n",
        "`variable[start:end:negative_step]`\n",
        "\n",
        "Negative Step determines the decrement between each index for slicing.\n",
        "\n",
        "Start index should be greater than the end index in this case\n",
        "\n",
        "* start > end\n",
        "\n",
        "##Negative Step Size Examples\n",
        "**Example - 1**"
      ]
    },
    {
      "cell_type": "code",
      "execution_count": null,
      "metadata": {
        "colab": {
          "base_uri": "https://localhost:8080/"
        },
        "id": "GWgQpwTp8l73",
        "outputId": "001b2f1d-ecb4-497b-b1d2-035d7e392740"
      },
      "outputs": [
        {
          "name": "stdout",
          "output_type": "stream",
          "text": [
            "[1, 2]\n"
          ]
        }
      ],
      "source": [
        "list_a = [5, 4, 3, 2, 1]\n",
        "list_b = list_a[4:2:-1]\n",
        "print(list_b)"
      ]
    },
    {
      "cell_type": "markdown",
      "metadata": {
        "id": "aLDHSxOQ88eB"
      },
      "source": [
        "**Example - 2**\n",
        "\n",
        "Negative step requires the start to be greater than end."
      ]
    },
    {
      "cell_type": "code",
      "execution_count": null,
      "metadata": {
        "colab": {
          "base_uri": "https://localhost:8080/"
        },
        "id": "KOtZkQcg9CWP",
        "outputId": "ad7a6c13-330f-46ab-9f3a-192f970e49f2"
      },
      "outputs": [
        {
          "name": "stdout",
          "output_type": "stream",
          "text": [
            "[]\n"
          ]
        }
      ],
      "source": [
        "list_a = [5, 4, 3, 2, 1]\n",
        "list_b = list_a[2:4:-1]\n",
        "print(list_b)"
      ]
    },
    {
      "cell_type": "markdown",
      "metadata": {
        "id": "dq0KQMc59JG8"
      },
      "source": [
        "##Reversing a List\n",
        "\n",
        "`-1` for step will reverse the order of items in the list."
      ]
    },
    {
      "cell_type": "code",
      "execution_count": 1,
      "metadata": {
        "id": "EMWZHg8U9rK1"
      },
      "outputs": [
        {
          "name": "stdout",
          "output_type": "stream",
          "text": [
            "[1, 2, 3, 4, 5]\n"
          ]
        }
      ],
      "source": [
        "list_a = [5, 4, 3, 2, 1]\n",
        "list_b = list_a[::-1]\n",
        "print(list_b)"
      ]
    },
    {
      "cell_type": "markdown",
      "metadata": {
        "id": "cni51xz69U6t"
      },
      "source": [
        "##Reversing a String\n",
        "`-1` for step will reverse the order of the characters."
      ]
    },
    {
      "cell_type": "code",
      "execution_count": null,
      "metadata": {
        "colab": {
          "base_uri": "https://localhost:8080/"
        },
        "id": "j85B-RYy9pBp",
        "outputId": "92d2f1f1-c444-4ee9-ba39-6c8560b144f4"
      },
      "outputs": [
        {
          "name": "stdout",
          "output_type": "stream",
          "text": [
            "margorP\n"
          ]
        }
      ],
      "source": [
        "string_1 = \"Program\"\n",
        "string_2 = string_1[::-1]\n",
        "print(string_2)"
      ]
    },
    {
      "cell_type": "markdown",
      "metadata": {
        "id": "1pkqlWcD9ys_"
      },
      "source": [
        "##Negative Step Size - Strings"
      ]
    },
    {
      "cell_type": "code",
      "execution_count": null,
      "metadata": {
        "colab": {
          "base_uri": "https://localhost:8080/"
        },
        "id": "7kH78tNl9z_a",
        "outputId": "c25b2f96-278e-4e84-9d38-1f65e6ae0d02"
      },
      "outputs": [
        {
          "name": "stdout",
          "output_type": "stream",
          "text": [
            "mro\n"
          ]
        }
      ],
      "source": [
        "string_1 = \"Program\"\n",
        "string_2 = string_1[6:0:-2]\n",
        "print(string_2)"
      ]
    },
    {
      "cell_type": "markdown",
      "metadata": {
        "id": "I_yGhAwZ988h"
      },
      "source": [
        "##Indexing & Slicing - Strings\n",
        "**Example - 1**\n",
        "\n",
        "![image.png](data:image/png;base64,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)"
      ]
    },
    {
      "cell_type": "code",
      "execution_count": 4,
      "metadata": {
        "colab": {
          "base_uri": "https://localhost:8080/"
        },
        "id": "hkklb6O2-Czj",
        "outputId": "9bde7d56-2e5a-4338-892c-17dd3f5af7b6"
      },
      "outputs": [
        {
          "name": "stdout",
          "output_type": "stream",
          "text": [
            "m\n"
          ]
        }
      ],
      "source": [
        "string_1 = \"Program\"\n",
        "string_2 = string_1[-1]\n",
        "print(string_2)"
      ]
    },
    {
      "cell_type": "markdown",
      "metadata": {
        "id": "5jf5tU9d-HYw"
      },
      "source": [
        "##Example - 2"
      ]
    },
    {
      "cell_type": "code",
      "execution_count": 7,
      "metadata": {
        "colab": {
          "base_uri": "https://localhost:8080/"
        },
        "id": "nRMeWOeA-Iug",
        "outputId": "85990608-3234-4c03-d1a2-2492c4014d44"
      },
      "outputs": [
        {
          "name": "stdout",
          "output_type": "stream",
          "text": [
            "gram\n"
          ]
        }
      ],
      "source": [
        "string_1 = \"Program\"\n",
        "string_2 = string_1[-4:]\n",
        "print(string_2)"
      ]
    },
    {
      "cell_type": "markdown",
      "metadata": {
        "id": "Rd_SjQRlBG6u"
      },
      "source": [
        "#**Functions**\n",
        "Block of reusable code to perform a specific action.\n",
        "\n",
        "##Reusing Code\n",
        "Using an existing code without writing it every time we need.\n",
        "\n",
        "![image.png](data:image/png;base64,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)"
      ]
    },
    {
      "cell_type": "code",
      "execution_count": null,
      "metadata": {
        "colab": {
          "base_uri": "https://localhost:8080/"
        },
        "id": "bmyl1m2IBSbu",
        "outputId": "0369afb3-eafc-4e3d-aa52-964a219ed50f"
      },
      "outputs": [
        {
          "name": "stdout",
          "output_type": "stream",
          "text": [
            "Hello\n",
            "raghu\n",
            "Hello\n",
            "raghu\n",
            "Hello\n"
          ]
        }
      ],
      "source": [
        "def greet():\n",
        "    print(\"Hello\")\n",
        "greet()\n",
        "name = input()\n",
        "greet()\n",
        "print(name)\n",
        "greet()"
      ]
    },
    {
      "cell_type": "markdown",
      "metadata": {
        "id": "kCiNdMKzBhtD"
      },
      "source": [
        "##Defining a Function\n",
        "Function is uniquely identified by the function_name\n",
        "\n",
        "![image.png](data:image/png;base64,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)"
      ]
    },
    {
      "cell_type": "code",
      "execution_count": null,
      "metadata": {
        "colab": {
          "base_uri": "https://localhost:8080/"
        },
        "id": "HYh8oEaeBmgH",
        "outputId": "b7e10024-5659-4afd-b976-6207e8656348"
      },
      "outputs": [
        {
          "name": "stdout",
          "output_type": "stream",
          "text": [
            "raghu\n",
            "raghu\n"
          ]
        }
      ],
      "source": [
        "def greet():\n",
        "    print(\"Hello\")\n",
        "\n",
        "name = input()\n",
        "print(name)"
      ]
    },
    {
      "cell_type": "markdown",
      "metadata": {
        "id": "CdfDVBgHBwPY"
      },
      "source": [
        "##Calling a Function\n",
        "The functional block of code is executed only when the function is called.\n",
        "\n",
        "![image.png](data:image/png;base64,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)"
      ]
    },
    {
      "cell_type": "code",
      "execution_count": null,
      "metadata": {
        "colab": {
          "base_uri": "https://localhost:8080/"
        },
        "id": "kDguSRZSBxib",
        "outputId": "bc7ab05e-b6ac-4f47-e575-f897c51d7f06"
      },
      "outputs": [
        {
          "name": "stdout",
          "output_type": "stream",
          "text": [
            "raghu\n",
            "Hello\n",
            "raghu\n"
          ]
        }
      ],
      "source": [
        "def greet():\n",
        "    print(\"Hello\")\n",
        "\n",
        "name = input()\n",
        "greet()\n",
        "print(name)"
      ]
    },
    {
      "cell_type": "markdown",
      "metadata": {
        "id": "HId-Hl0PCBTI"
      },
      "source": [
        "##Defining & Calling a Function\n",
        "A function should be defined before it is called."
      ]
    },
    {
      "cell_type": "code",
      "execution_count": null,
      "metadata": {
        "colab": {
          "base_uri": "https://localhost:8080/"
        },
        "id": "CFavqcwGCOlz",
        "outputId": "3139baa6-a8fa-46b9-b968-951c83249c0d"
      },
      "outputs": [
        {
          "name": "stdout",
          "output_type": "stream",
          "text": [
            "raghu\n",
            "Hello\n",
            "raghu\n"
          ]
        }
      ],
      "source": [
        "name = input()\n",
        "greet()\n",
        "print(name)\n",
        "\n",
        "def greet():\n",
        "    print(\"Hello\")"
      ]
    },
    {
      "cell_type": "markdown",
      "metadata": {
        "id": "zFJIWLjCCRge"
      },
      "source": [
        "##Printing a Message\n"
      ]
    },
    {
      "cell_type": "code",
      "execution_count": null,
      "metadata": {
        "colab": {
          "base_uri": "https://localhost:8080/"
        },
        "id": "XEkHAlfECplf",
        "outputId": "b1c5461c-e2c6-4b03-f573-8c795353ddfe"
      },
      "outputs": [
        {
          "name": "stdout",
          "output_type": "stream",
          "text": [
            "raghu\n",
            "Hello \n"
          ]
        }
      ],
      "source": [
        "def greet():\n",
        "    msg = \"Hello \"\n",
        "    print(msg)\n",
        "\n",
        "name = input()\n",
        "greet()"
      ]
    }
  ],
  "metadata": {
    "colab": {
      "provenance": []
    },
    "kernelspec": {
      "display_name": "Python 3",
      "name": "python3"
    },
    "language_info": {
      "codemirror_mode": {
        "name": "ipython",
        "version": 3
      },
      "file_extension": ".py",
      "mimetype": "text/x-python",
      "name": "python",
      "nbconvert_exporter": "python",
      "pygments_lexer": "ipython3",
      "version": "3.12.2"
    }
  },
  "nbformat": 4,
  "nbformat_minor": 0
}
